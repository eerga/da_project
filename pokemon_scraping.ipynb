{
 "cells": [
  {
   "cell_type": "markdown",
   "metadata": {},
   "source": [
    "### Scraping of historical data of https://pokemonprices.com/top_100 for 2019 and 2020\n"
   ]
  },
  {
   "cell_type": "code",
   "execution_count": 27,
   "metadata": {},
   "outputs": [],
   "source": [
    "days = [\"20190706\", \"20190726\", \"20190827\",\n",
    "        \"20190928\", \"20191005\", \"20191018\",\n",
    "       \"20191117\", \"20200301\", \"20200331\", \"20200428\",\n",
    "       \"20200430\", \"20200520\", \"20200808\"] # 13 days, each containing 100 records"
   ]
  },
  {
   "cell_type": "code",
   "execution_count": 28,
   "metadata": {},
   "outputs": [],
   "source": [
    "urls = []\n",
    "for i, day in enumerate(days):\n",
    "    url = \"https://web.archive.org/web/\"+ day + \"/https://pokemonprices.com/top_100\"\n",
    "    urls.append(url)\n",
    "    "
   ]
  },
  {
   "cell_type": "code",
   "execution_count": 29,
   "metadata": {},
   "outputs": [
    {
     "data": {
      "text/plain": [
       "13"
      ]
     },
     "execution_count": 29,
     "metadata": {},
     "output_type": "execute_result"
    }
   ],
   "source": [
    "len(urls) # 13 urls"
   ]
  },
  {
   "cell_type": "code",
   "execution_count": 30,
   "metadata": {},
   "outputs": [],
   "source": [
    "from bs4 import BeautifulSoup as bs\n",
    "import urllib.request"
   ]
  },
  {
   "cell_type": "code",
   "execution_count": 31,
   "metadata": {},
   "outputs": [],
   "source": [
    "name_price = [] # extracts both names and prices\n",
    "prices = [] # get prices\n",
    "names = [] # get names\n",
    "dates = [] # dates of record\n",
    "unique_nums = [] # contains unique rarity number of a pokemon card that needs some further cleaning and empty string items \n",
    "updated_nums = [] # only contains unique rarity number of a pokemon card that needs some further cleaning\n",
    "nums = [] # cleaned unique rarity number of a pokemon card\n",
    "\n",
    "for i, url in enumerate(urls):\n",
    "    \n",
    "    html = urllib.request.urlopen(url).read().decode('utf-8')\n",
    "    soup = bs(html, 'html.parser')  \n",
    "    relevant= soup.find_all('tbody')\n",
    "\n",
    "    for price in soup.find_all('b'):\n",
    "        name_price.append(price)\n",
    "\n",
    "    for unique_num in soup.find_all('p'):\n",
    "        unique_num = str(unique_num)[50:200].strip()\n",
    "        unique_nums.append(unique_num)\n",
    "    unique_nums = unique_nums[:-2]\n",
    "        \n",
    "    for date in soup.find_all('small'): # create a list of lists\n",
    "        a = [date.text.strip()[15:-11].strip()] * 100 \n",
    "        dates.append(a)"
   ]
  },
  {
   "cell_type": "code",
   "execution_count": 32,
   "metadata": {},
   "outputs": [],
   "source": [
    "dates = [item for sublist in dates for item in sublist] # flatten the dates list"
   ]
  },
  {
   "cell_type": "code",
   "execution_count": 33,
   "metadata": {},
   "outputs": [
    {
     "data": {
      "text/plain": [
       "1300"
      ]
     },
     "execution_count": 33,
     "metadata": {},
     "output_type": "execute_result"
    }
   ],
   "source": [
    "len(dates) # obtain a total of 1300 records"
   ]
  },
  {
   "cell_type": "code",
   "execution_count": 34,
   "metadata": {},
   "outputs": [],
   "source": [
    "for i, item in enumerate(name_price):\n",
    "    if i % 2 == 0:\n",
    "        names.append(item.text)\n",
    "    else:\n",
    "        prices.append(item.text[1:]) # get rid of dollar sign"
   ]
  },
  {
   "cell_type": "code",
   "execution_count": 35,
   "metadata": {},
   "outputs": [],
   "source": [
    "updated_names = [] # remove any special character\n",
    "for name in names:\n",
    "    new_name = [character for character in name if character.isalnum()]\n",
    "    new_name = \"\".join(new_name)\n",
    "    updated_names.append(new_name)"
   ]
  },
  {
   "cell_type": "code",
   "execution_count": 37,
   "metadata": {},
   "outputs": [
    {
     "data": {
      "text/plain": [
       "['Umbreon', 'Gastly']"
      ]
     },
     "execution_count": 37,
     "metadata": {},
     "output_type": "execute_result"
    }
   ],
   "source": [
    "updated_names[:2]"
   ]
  },
  {
   "cell_type": "code",
   "execution_count": 38,
   "metadata": {},
   "outputs": [],
   "source": [
    "for i,item in enumerate(unique_nums):\n",
    "    if i % 2 == 0:\n",
    "        updated_nums.append(item)   \n",
    "\n",
    "         # unique card identified\n",
    "for i, value in enumerate(updated_nums):\n",
    "    updated = value.replace(\" \", \"\")\n",
    "    pattern = '<br/>'\n",
    "    index1 = updated.find(pattern)\n",
    "    updated = updated[index1+len(pattern):]\n",
    "    index2 = updated.find(pattern)\n",
    "    updated = updated[:index2].strip()\n",
    "    nums.append(updated)"
   ]
  },
  {
   "cell_type": "code",
   "execution_count": 39,
   "metadata": {},
   "outputs": [
    {
     "data": {
      "text/plain": [
       "1300"
      ]
     },
     "execution_count": 39,
     "metadata": {},
     "output_type": "execute_result"
    }
   ],
   "source": [
    "len(names) # double check that there are 1300 entries"
   ]
  },
  {
   "cell_type": "code",
   "execution_count": 40,
   "metadata": {},
   "outputs": [],
   "source": [
    "final_list = []\n",
    "for i in range(len(names)):\n",
    "    row=(dates[i],updated_names[i],prices[i], nums[i])\n",
    "    final_list.append(row)\n",
    "    "
   ]
  },
  {
   "cell_type": "code",
   "execution_count": 41,
   "metadata": {},
   "outputs": [],
   "source": [
    "colnames = ['date','card_name','price', 'unique_num']"
   ]
  },
  {
   "cell_type": "code",
   "execution_count": 43,
   "metadata": {},
   "outputs": [],
   "source": [
    "import pandas as pd\n",
    "df = pd.DataFrame(final_list, columns=colnames)"
   ]
  },
  {
   "cell_type": "code",
   "execution_count": 44,
   "metadata": {},
   "outputs": [
    {
     "data": {
      "text/html": [
       "<div>\n",
       "<style scoped>\n",
       "    .dataframe tbody tr th:only-of-type {\n",
       "        vertical-align: middle;\n",
       "    }\n",
       "\n",
       "    .dataframe tbody tr th {\n",
       "        vertical-align: top;\n",
       "    }\n",
       "\n",
       "    .dataframe thead th {\n",
       "        text-align: right;\n",
       "    }\n",
       "</style>\n",
       "<table border=\"1\" class=\"dataframe\">\n",
       "  <thead>\n",
       "    <tr style=\"text-align: right;\">\n",
       "      <th></th>\n",
       "      <th>date</th>\n",
       "      <th>card_name</th>\n",
       "      <th>price</th>\n",
       "      <th>unique_num</th>\n",
       "    </tr>\n",
       "  </thead>\n",
       "  <tbody>\n",
       "    <tr>\n",
       "      <th>0</th>\n",
       "      <td>Jul  6 2019</td>\n",
       "      <td>Umbreon</td>\n",
       "      <td>1249.95</td>\n",
       "      <td>17/17</td>\n",
       "    </tr>\n",
       "    <tr>\n",
       "      <th>1</th>\n",
       "      <td>Jul  6 2019</td>\n",
       "      <td>Gastly</td>\n",
       "      <td>1014.98</td>\n",
       "      <td>019/093</td>\n",
       "    </tr>\n",
       "    <tr>\n",
       "      <th>2</th>\n",
       "      <td>Jul  6 2019</td>\n",
       "      <td>Espeon</td>\n",
       "      <td>999.99</td>\n",
       "      <td>16/17</td>\n",
       "    </tr>\n",
       "    <tr>\n",
       "      <th>3</th>\n",
       "      <td>Jul  6 2019</td>\n",
       "      <td>Chansey</td>\n",
       "      <td>814.98</td>\n",
       "      <td>048/093</td>\n",
       "    </tr>\n",
       "    <tr>\n",
       "      <th>4</th>\n",
       "      <td>Jul  6 2019</td>\n",
       "      <td>Machop</td>\n",
       "      <td>814.98</td>\n",
       "      <td>021/093</td>\n",
       "    </tr>\n",
       "    <tr>\n",
       "      <th>...</th>\n",
       "      <td>...</td>\n",
       "      <td>...</td>\n",
       "      <td>...</td>\n",
       "      <td>...</td>\n",
       "    </tr>\n",
       "    <tr>\n",
       "      <th>1295</th>\n",
       "      <td>Aug 7 2020</td>\n",
       "      <td>Palkia</td>\n",
       "      <td>60.07</td>\n",
       "      <td>SL8</td>\n",
       "    </tr>\n",
       "    <tr>\n",
       "      <th>1296</th>\n",
       "      <td>Aug 7 2020</td>\n",
       "      <td>DarkHoundoom</td>\n",
       "      <td>60.00</td>\n",
       "      <td>5/109</td>\n",
       "    </tr>\n",
       "    <tr>\n",
       "      <th>1297</th>\n",
       "      <td>Aug 7 2020</td>\n",
       "      <td>LugiaEX</td>\n",
       "      <td>60.00</td>\n",
       "      <td>134/135</td>\n",
       "    </tr>\n",
       "    <tr>\n",
       "      <th>1298</th>\n",
       "      <td>Aug 7 2020</td>\n",
       "      <td>HoOh</td>\n",
       "      <td>60.00</td>\n",
       "      <td>7/64</td>\n",
       "    </tr>\n",
       "    <tr>\n",
       "      <th>1299</th>\n",
       "      <td>Aug 7 2020</td>\n",
       "      <td>Mew</td>\n",
       "      <td>60.00</td>\n",
       "      <td>19/165</td>\n",
       "    </tr>\n",
       "  </tbody>\n",
       "</table>\n",
       "<p>1300 rows × 4 columns</p>\n",
       "</div>"
      ],
      "text/plain": [
       "             date     card_name    price unique_num\n",
       "0     Jul  6 2019       Umbreon  1249.95      17/17\n",
       "1     Jul  6 2019        Gastly  1014.98    019/093\n",
       "2     Jul  6 2019        Espeon   999.99      16/17\n",
       "3     Jul  6 2019       Chansey   814.98    048/093\n",
       "4     Jul  6 2019        Machop   814.98    021/093\n",
       "...           ...           ...      ...        ...\n",
       "1295   Aug 7 2020        Palkia    60.07        SL8\n",
       "1296   Aug 7 2020  DarkHoundoom    60.00      5/109\n",
       "1297   Aug 7 2020       LugiaEX    60.00    134/135\n",
       "1298   Aug 7 2020          HoOh    60.00       7/64\n",
       "1299   Aug 7 2020           Mew    60.00     19/165\n",
       "\n",
       "[1300 rows x 4 columns]"
      ]
     },
     "execution_count": 44,
     "metadata": {},
     "output_type": "execute_result"
    }
   ],
   "source": [
    "df"
   ]
  },
  {
   "cell_type": "code",
   "execution_count": 45,
   "metadata": {},
   "outputs": [],
   "source": [
    "df['date'] = pd.to_datetime(df['date'], format='%b %d %Y') # convert string to date"
   ]
  },
  {
   "cell_type": "code",
   "execution_count": 46,
   "metadata": {},
   "outputs": [
    {
     "data": {
      "text/html": [
       "<div>\n",
       "<style scoped>\n",
       "    .dataframe tbody tr th:only-of-type {\n",
       "        vertical-align: middle;\n",
       "    }\n",
       "\n",
       "    .dataframe tbody tr th {\n",
       "        vertical-align: top;\n",
       "    }\n",
       "\n",
       "    .dataframe thead th {\n",
       "        text-align: right;\n",
       "    }\n",
       "</style>\n",
       "<table border=\"1\" class=\"dataframe\">\n",
       "  <thead>\n",
       "    <tr style=\"text-align: right;\">\n",
       "      <th></th>\n",
       "      <th>date</th>\n",
       "      <th>card_name</th>\n",
       "      <th>price</th>\n",
       "      <th>unique_num</th>\n",
       "    </tr>\n",
       "  </thead>\n",
       "  <tbody>\n",
       "    <tr>\n",
       "      <th>0</th>\n",
       "      <td>2019-07-06</td>\n",
       "      <td>Umbreon</td>\n",
       "      <td>1249.95</td>\n",
       "      <td>17/17</td>\n",
       "    </tr>\n",
       "    <tr>\n",
       "      <th>1</th>\n",
       "      <td>2019-07-06</td>\n",
       "      <td>Gastly</td>\n",
       "      <td>1014.98</td>\n",
       "      <td>019/093</td>\n",
       "    </tr>\n",
       "    <tr>\n",
       "      <th>2</th>\n",
       "      <td>2019-07-06</td>\n",
       "      <td>Espeon</td>\n",
       "      <td>999.99</td>\n",
       "      <td>16/17</td>\n",
       "    </tr>\n",
       "    <tr>\n",
       "      <th>3</th>\n",
       "      <td>2019-07-06</td>\n",
       "      <td>Chansey</td>\n",
       "      <td>814.98</td>\n",
       "      <td>048/093</td>\n",
       "    </tr>\n",
       "    <tr>\n",
       "      <th>4</th>\n",
       "      <td>2019-07-06</td>\n",
       "      <td>Machop</td>\n",
       "      <td>814.98</td>\n",
       "      <td>021/093</td>\n",
       "    </tr>\n",
       "    <tr>\n",
       "      <th>...</th>\n",
       "      <td>...</td>\n",
       "      <td>...</td>\n",
       "      <td>...</td>\n",
       "      <td>...</td>\n",
       "    </tr>\n",
       "    <tr>\n",
       "      <th>1295</th>\n",
       "      <td>2020-08-07</td>\n",
       "      <td>Palkia</td>\n",
       "      <td>60.07</td>\n",
       "      <td>SL8</td>\n",
       "    </tr>\n",
       "    <tr>\n",
       "      <th>1296</th>\n",
       "      <td>2020-08-07</td>\n",
       "      <td>DarkHoundoom</td>\n",
       "      <td>60.00</td>\n",
       "      <td>5/109</td>\n",
       "    </tr>\n",
       "    <tr>\n",
       "      <th>1297</th>\n",
       "      <td>2020-08-07</td>\n",
       "      <td>LugiaEX</td>\n",
       "      <td>60.00</td>\n",
       "      <td>134/135</td>\n",
       "    </tr>\n",
       "    <tr>\n",
       "      <th>1298</th>\n",
       "      <td>2020-08-07</td>\n",
       "      <td>HoOh</td>\n",
       "      <td>60.00</td>\n",
       "      <td>7/64</td>\n",
       "    </tr>\n",
       "    <tr>\n",
       "      <th>1299</th>\n",
       "      <td>2020-08-07</td>\n",
       "      <td>Mew</td>\n",
       "      <td>60.00</td>\n",
       "      <td>19/165</td>\n",
       "    </tr>\n",
       "  </tbody>\n",
       "</table>\n",
       "<p>1300 rows × 4 columns</p>\n",
       "</div>"
      ],
      "text/plain": [
       "           date     card_name    price unique_num\n",
       "0    2019-07-06       Umbreon  1249.95      17/17\n",
       "1    2019-07-06        Gastly  1014.98    019/093\n",
       "2    2019-07-06        Espeon   999.99      16/17\n",
       "3    2019-07-06       Chansey   814.98    048/093\n",
       "4    2019-07-06        Machop   814.98    021/093\n",
       "...         ...           ...      ...        ...\n",
       "1295 2020-08-07        Palkia    60.07        SL8\n",
       "1296 2020-08-07  DarkHoundoom    60.00      5/109\n",
       "1297 2020-08-07       LugiaEX    60.00    134/135\n",
       "1298 2020-08-07          HoOh    60.00       7/64\n",
       "1299 2020-08-07           Mew    60.00     19/165\n",
       "\n",
       "[1300 rows x 4 columns]"
      ]
     },
     "execution_count": 46,
     "metadata": {},
     "output_type": "execute_result"
    }
   ],
   "source": [
    "df"
   ]
  },
  {
   "cell_type": "code",
   "execution_count": 47,
   "metadata": {},
   "outputs": [],
   "source": [
    "df.to_csv('rough.csv', index=False)"
   ]
  }
 ],
 "metadata": {
  "kernelspec": {
   "display_name": "Python 3",
   "language": "python",
   "name": "python3"
  },
  "language_info": {
   "codemirror_mode": {
    "name": "ipython",
    "version": 3
   },
   "file_extension": ".py",
   "mimetype": "text/x-python",
   "name": "python",
   "nbconvert_exporter": "python",
   "pygments_lexer": "ipython3",
   "version": "3.8.1"
  }
 },
 "nbformat": 4,
 "nbformat_minor": 4
}

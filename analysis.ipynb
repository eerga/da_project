{
 "cells": [
  {
   "cell_type": "markdown",
   "metadata": {},
   "source": [
    "### Statistical Analysis Part"
   ]
  },
  {
   "cell_type": "code",
   "execution_count": null,
   "metadata": {},
   "outputs": [],
   "source": [
    "df = read.csv('final.csv')"
   ]
  },
  {
   "cell_type": "code",
   "execution_count": 2,
   "metadata": {},
   "outputs": [
    {
     "data": {
      "text/html": [
       "<table>\n",
       "<caption>A data.frame: 3 × 6</caption>\n",
       "<thead>\n",
       "\t<tr><th></th><th scope=col>card_count</th><th scope=col>unique_num</th><th scope=col>card_name</th><th scope=col>Date</th><th scope=col>avg_price</th><th scope=col>avg_views</th></tr>\n",
       "\t<tr><th></th><th scope=col>&lt;int&gt;</th><th scope=col>&lt;chr&gt;</th><th scope=col>&lt;chr&gt;</th><th scope=col>&lt;int&gt;</th><th scope=col>&lt;dbl&gt;</th><th scope=col>&lt;int&gt;</th></tr>\n",
       "</thead>\n",
       "<tbody>\n",
       "\t<tr><th scope=row>1</th><td>6</td><td>96/95</td><td>Absol   </td><td>20190827</td><td>142.9667</td><td>70129326</td></tr>\n",
       "\t<tr><th scope=row>2</th><td>4</td><td>2/97 </td><td>Altaria </td><td>20190827</td><td> 32.0700</td><td>70129326</td></tr>\n",
       "\t<tr><th scope=row>3</th><td>2</td><td>2/110</td><td>Articuno</td><td>20190827</td><td> 30.3250</td><td>70129326</td></tr>\n",
       "</tbody>\n",
       "</table>\n"
      ],
      "text/latex": [
       "A data.frame: 3 × 6\n",
       "\\begin{tabular}{r|llllll}\n",
       "  & card\\_count & unique\\_num & card\\_name & Date & avg\\_price & avg\\_views\\\\\n",
       "  & <int> & <chr> & <chr> & <int> & <dbl> & <int>\\\\\n",
       "\\hline\n",
       "\t1 & 6 & 96/95 & Absol    & 20190827 & 142.9667 & 70129326\\\\\n",
       "\t2 & 4 & 2/97  & Altaria  & 20190827 &  32.0700 & 70129326\\\\\n",
       "\t3 & 2 & 2/110 & Articuno & 20190827 &  30.3250 & 70129326\\\\\n",
       "\\end{tabular}\n"
      ],
      "text/markdown": [
       "\n",
       "A data.frame: 3 × 6\n",
       "\n",
       "| <!--/--> | card_count &lt;int&gt; | unique_num &lt;chr&gt; | card_name &lt;chr&gt; | Date &lt;int&gt; | avg_price &lt;dbl&gt; | avg_views &lt;int&gt; |\n",
       "|---|---|---|---|---|---|---|\n",
       "| 1 | 6 | 96/95 | Absol    | 20190827 | 142.9667 | 70129326 |\n",
       "| 2 | 4 | 2/97  | Altaria  | 20190827 |  32.0700 | 70129326 |\n",
       "| 3 | 2 | 2/110 | Articuno | 20190827 |  30.3250 | 70129326 |\n",
       "\n"
      ],
      "text/plain": [
       "  card_count unique_num card_name Date     avg_price avg_views\n",
       "1 6          96/95      Absol     20190827 142.9667  70129326 \n",
       "2 4          2/97       Altaria   20190827  32.0700  70129326 \n",
       "3 2          2/110      Articuno  20190827  30.3250  70129326 "
      ]
     },
     "metadata": {},
     "output_type": "display_data"
    }
   ],
   "source": [
    "head(df,3)"
   ]
  },
  {
   "cell_type": "code",
   "execution_count": 3,
   "metadata": {},
   "outputs": [
    {
     "name": "stdout",
     "output_type": "stream",
     "text": [
      "'data.frame':\t245 obs. of  6 variables:\n",
      " $ card_count: int  6 4 2 1 1 1 1 2 5 3 ...\n",
      " $ unique_num: chr  \"96/95\" \"2/97\" \"2/110\" \"141/149\" ...\n",
      " $ card_name : chr  \"Absol\" \"Altaria\" \"Articuno\" \"CelebiEX\" ...\n",
      " $ Date      : int  20190827 20190827 20190827 20190827 20190827 20190827 20190827 20190827 20190827 20190827 ...\n",
      " $ avg_price : num  143 32.1 30.3 30 52.5 ...\n",
      " $ avg_views : int  70129326 70129326 70129326 70129326 70129326 70129326 70129326 70129326 70129326 70129326 ...\n"
     ]
    }
   ],
   "source": [
    "str(df)"
   ]
  },
  {
   "cell_type": "markdown",
   "metadata": {},
   "source": [
    "#### Building models and running partial F-tests"
   ]
  },
  {
   "cell_type": "code",
   "execution_count": 5,
   "metadata": {},
   "outputs": [
    {
     "data": {
      "text/plain": [
       "\n",
       "Call:\n",
       "lm(formula = avg_price ~ avg_views + Date, data = df)\n",
       "\n",
       "Residuals:\n",
       "    Min      1Q  Median      3Q     Max \n",
       "-168.99 -124.11  -55.58  -14.33 2764.66 \n",
       "\n",
       "Coefficients:\n",
       "              Estimate Std. Error t value Pr(>|t|)\n",
       "(Intercept) -2.707e+04  2.665e+05  -0.102    0.919\n",
       "avg_views    1.702e-06  2.265e-06   0.752    0.453\n",
       "Date         1.345e-03  1.319e-02   0.102    0.919\n",
       "\n",
       "Residual standard error: 285.7 on 242 degrees of freedom\n",
       "Multiple R-squared:  0.01973,\tAdjusted R-squared:  0.01163 \n",
       "F-statistic: 2.435 on 2 and 242 DF,  p-value: 0.0897\n"
      ]
     },
     "metadata": {},
     "output_type": "display_data"
    }
   ],
   "source": [
    "full <- lm(avg_price ~ avg_views + Date, data = df)\n",
    "summary(full)"
   ]
  },
  {
   "cell_type": "code",
   "execution_count": null,
   "metadata": {},
   "outputs": [],
   "source": [
    "# from the low p-value, the model is significant at 90% CI"
   ]
  },
  {
   "cell_type": "code",
   "execution_count": 6,
   "metadata": {},
   "outputs": [
    {
     "data": {
      "text/plain": [
       "\n",
       "Call:\n",
       "lm(formula = avg_price ~ avg_views, data = df)\n",
       "\n",
       "Residuals:\n",
       "    Min      1Q  Median      3Q     Max \n",
       "-166.51 -124.09  -55.10  -14.21 2764.78 \n",
       "\n",
       "Coefficients:\n",
       "             Estimate Std. Error t value Pr(>|t|)   \n",
       "(Intercept) 9.180e+01  3.095e+01   2.966  0.00332 **\n",
       "avg_views   1.482e-06  6.707e-07   2.209  0.02810 * \n",
       "---\n",
       "Signif. codes:  0 '***' 0.001 '**' 0.01 '*' 0.05 '.' 0.1 ' ' 1\n",
       "\n",
       "Residual standard error: 285.1 on 243 degrees of freedom\n",
       "Multiple R-squared:  0.01969,\tAdjusted R-squared:  0.01565 \n",
       "F-statistic:  4.88 on 1 and 243 DF,  p-value: 0.0281\n"
      ]
     },
     "metadata": {},
     "output_type": "display_data"
    }
   ],
   "source": [
    "pricevsviews <-lm(avg_price ~ avg_views, data=df)\n",
    "summary(pricevsviews)"
   ]
  },
  {
   "cell_type": "code",
   "execution_count": 7,
   "metadata": {},
   "outputs": [
    {
     "data": {
      "text/plain": [
       "\n",
       "Call:\n",
       "lm(formula = avg_price ~ Date, data = df)\n",
       "\n",
       "Residuals:\n",
       "    Min      1Q  Median      3Q     Max \n",
       "-150.22 -123.49  -54.47  -12.20 2768.89 \n",
       "\n",
       "Coefficients:\n",
       "              Estimate Std. Error t value Pr(>|t|)  \n",
       "(Intercept)  1.642e+05  7.899e+04   2.079   0.0387 *\n",
       "Date        -8.124e-03  3.912e-03  -2.077   0.0389 *\n",
       "---\n",
       "Signif. codes:  0 '***' 0.001 '**' 0.01 '*' 0.05 '.' 0.1 ' ' 1\n",
       "\n",
       "Residual standard error: 285.4 on 243 degrees of freedom\n",
       "Multiple R-squared:  0.01744,\tAdjusted R-squared:  0.0134 \n",
       "F-statistic: 4.314 on 1 and 243 DF,  p-value: 0.03886\n"
      ]
     },
     "metadata": {},
     "output_type": "display_data"
    }
   ],
   "source": [
    "pricevsdate <-lm(avg_price ~ Date, data=df)\n",
    "summary(pricevsdate)"
   ]
  },
  {
   "cell_type": "code",
   "execution_count": 8,
   "metadata": {},
   "outputs": [
    {
     "data": {
      "text/html": [
       "<table>\n",
       "<caption>A anova: 2 × 6</caption>\n",
       "<thead>\n",
       "\t<tr><th></th><th scope=col>Res.Df</th><th scope=col>RSS</th><th scope=col>Df</th><th scope=col>Sum of Sq</th><th scope=col>F</th><th scope=col>Pr(&gt;F)</th></tr>\n",
       "\t<tr><th></th><th scope=col>&lt;dbl&gt;</th><th scope=col>&lt;dbl&gt;</th><th scope=col>&lt;dbl&gt;</th><th scope=col>&lt;dbl&gt;</th><th scope=col>&lt;dbl&gt;</th><th scope=col>&lt;dbl&gt;</th></tr>\n",
       "</thead>\n",
       "<tbody>\n",
       "\t<tr><th scope=row>1</th><td>242</td><td>19746681</td><td>NA</td><td>       NA</td><td>        NA</td><td>       NA</td></tr>\n",
       "\t<tr><th scope=row>2</th><td>243</td><td>19747529</td><td>-1</td><td>-847.6053</td><td>0.01038759</td><td>0.9189049</td></tr>\n",
       "</tbody>\n",
       "</table>\n"
      ],
      "text/latex": [
       "A anova: 2 × 6\n",
       "\\begin{tabular}{r|llllll}\n",
       "  & Res.Df & RSS & Df & Sum of Sq & F & Pr(>F)\\\\\n",
       "  & <dbl> & <dbl> & <dbl> & <dbl> & <dbl> & <dbl>\\\\\n",
       "\\hline\n",
       "\t1 & 242 & 19746681 & NA &        NA &         NA &        NA\\\\\n",
       "\t2 & 243 & 19747529 & -1 & -847.6053 & 0.01038759 & 0.9189049\\\\\n",
       "\\end{tabular}\n"
      ],
      "text/markdown": [
       "\n",
       "A anova: 2 × 6\n",
       "\n",
       "| <!--/--> | Res.Df &lt;dbl&gt; | RSS &lt;dbl&gt; | Df &lt;dbl&gt; | Sum of Sq &lt;dbl&gt; | F &lt;dbl&gt; | Pr(&gt;F) &lt;dbl&gt; |\n",
       "|---|---|---|---|---|---|---|\n",
       "| 1 | 242 | 19746681 | NA |        NA |         NA |        NA |\n",
       "| 2 | 243 | 19747529 | -1 | -847.6053 | 0.01038759 | 0.9189049 |\n",
       "\n"
      ],
      "text/plain": [
       "  Res.Df RSS      Df Sum of Sq F          Pr(>F)   \n",
       "1 242    19746681 NA        NA         NA        NA\n",
       "2 243    19747529 -1 -847.6053 0.01038759 0.9189049"
      ]
     },
     "metadata": {},
     "output_type": "display_data"
    }
   ],
   "source": [
    "anova(full, pricevsviews) # test significance of date"
   ]
  },
  {
   "cell_type": "markdown",
   "metadata": {},
   "source": [
    "Conclusion: date is not significant on its own"
   ]
  },
  {
   "cell_type": "code",
   "execution_count": 9,
   "metadata": {},
   "outputs": [
    {
     "data": {
      "text/html": [
       "<table>\n",
       "<caption>A anova: 2 × 6</caption>\n",
       "<thead>\n",
       "\t<tr><th></th><th scope=col>Res.Df</th><th scope=col>RSS</th><th scope=col>Df</th><th scope=col>Sum of Sq</th><th scope=col>F</th><th scope=col>Pr(&gt;F)</th></tr>\n",
       "\t<tr><th></th><th scope=col>&lt;dbl&gt;</th><th scope=col>&lt;dbl&gt;</th><th scope=col>&lt;dbl&gt;</th><th scope=col>&lt;dbl&gt;</th><th scope=col>&lt;dbl&gt;</th><th scope=col>&lt;dbl&gt;</th></tr>\n",
       "</thead>\n",
       "<tbody>\n",
       "\t<tr><th scope=row>1</th><td>242</td><td>19746681</td><td>NA</td><td>       NA</td><td>       NA</td><td>       NA</td></tr>\n",
       "\t<tr><th scope=row>2</th><td>243</td><td>19792778</td><td>-1</td><td>-46097.02</td><td>0.5649292</td><td>0.4530113</td></tr>\n",
       "</tbody>\n",
       "</table>\n"
      ],
      "text/latex": [
       "A anova: 2 × 6\n",
       "\\begin{tabular}{r|llllll}\n",
       "  & Res.Df & RSS & Df & Sum of Sq & F & Pr(>F)\\\\\n",
       "  & <dbl> & <dbl> & <dbl> & <dbl> & <dbl> & <dbl>\\\\\n",
       "\\hline\n",
       "\t1 & 242 & 19746681 & NA &        NA &        NA &        NA\\\\\n",
       "\t2 & 243 & 19792778 & -1 & -46097.02 & 0.5649292 & 0.4530113\\\\\n",
       "\\end{tabular}\n"
      ],
      "text/markdown": [
       "\n",
       "A anova: 2 × 6\n",
       "\n",
       "| <!--/--> | Res.Df &lt;dbl&gt; | RSS &lt;dbl&gt; | Df &lt;dbl&gt; | Sum of Sq &lt;dbl&gt; | F &lt;dbl&gt; | Pr(&gt;F) &lt;dbl&gt; |\n",
       "|---|---|---|---|---|---|---|\n",
       "| 1 | 242 | 19746681 | NA |        NA |        NA |        NA |\n",
       "| 2 | 243 | 19792778 | -1 | -46097.02 | 0.5649292 | 0.4530113 |\n",
       "\n"
      ],
      "text/plain": [
       "  Res.Df RSS      Df Sum of Sq F         Pr(>F)   \n",
       "1 242    19746681 NA        NA        NA        NA\n",
       "2 243    19792778 -1 -46097.02 0.5649292 0.4530113"
      ]
     },
     "metadata": {},
     "output_type": "display_data"
    }
   ],
   "source": [
    "anova(full, pricevsdate) # test significance of youtube views"
   ]
  },
  {
   "cell_type": "markdown",
   "metadata": {},
   "source": [
    "Conclusion: youtube views are not significant on their own"
   ]
  },
  {
   "cell_type": "code",
   "execution_count": null,
   "metadata": {},
   "outputs": [],
   "source": [
    "Conclusion: date is not significant on its own"
   ]
  },
  {
   "cell_type": "code",
   "execution_count": 15,
   "metadata": {},
   "outputs": [
    {
     "data": {
      "text/html": [
       "0.140314906464031"
      ],
      "text/latex": [
       "0.140314906464031"
      ],
      "text/markdown": [
       "0.140314906464031"
      ],
      "text/plain": [
       "[1] 0.1403149"
      ]
     },
     "metadata": {},
     "output_type": "display_data"
    }
   ],
   "source": [
    "cor(df$avg_price, df$avg_views)"
   ]
  },
  {
   "cell_type": "code",
   "execution_count": 16,
   "metadata": {},
   "outputs": [
    {
     "data": {
      "text/html": [
       "-0.132068128338313"
      ],
      "text/latex": [
       "-0.132068128338313"
      ],
      "text/markdown": [
       "-0.132068128338313"
      ],
      "text/plain": [
       "[1] -0.1320681"
      ]
     },
     "metadata": {},
     "output_type": "display_data"
    }
   ],
   "source": [
    "cor(df$avg_price, df$Date)"
   ]
  },
  {
   "cell_type": "code",
   "execution_count": null,
   "metadata": {},
   "outputs": [],
   "source": []
  }
 ],
 "metadata": {
  "kernelspec": {
   "display_name": "R",
   "language": "R",
   "name": "ir"
  },
  "language_info": {
   "codemirror_mode": "r",
   "file_extension": ".r",
   "mimetype": "text/x-r-source",
   "name": "R",
   "pygments_lexer": "r",
   "version": "4.0.2"
  }
 },
 "nbformat": 4,
 "nbformat_minor": 4
}
